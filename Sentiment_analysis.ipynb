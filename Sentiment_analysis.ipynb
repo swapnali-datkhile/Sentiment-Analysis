{
  "nbformat": 4,
  "nbformat_minor": 0,
  "metadata": {
    "colab": {
      "name": "Sentiment analysis.ipynb",
      "provenance": []
    },
    "kernelspec": {
      "name": "python3",
      "display_name": "Python 3"
    },
    "language_info": {
      "name": "python"
    }
  },
  "cells": [
    {
      "cell_type": "markdown",
      "source": [
        "Sentiment Analysis on dataset to predict sarcasm in sentences"
      ],
      "metadata": {
        "id": "FevI7BFLkMwD"
      }
    },
    {
      "cell_type": "code",
      "source": [
        "import numpy as np\n",
        "import matplotlib.pyplot as plt\n",
        "import json\n",
        "import tensorflow as tf\n",
        "\n",
        "from tensorflow.keras.preprocessing.text import Tokenizer\n",
        "from tensorflow.keras.preprocessing.sequence import pad_sequences\n",
        "\n",
        "import io\n"
      ],
      "metadata": {
        "id": "QkrPVPWaet0z"
      },
      "execution_count": 1,
      "outputs": []
    },
    {
      "cell_type": "code",
      "source": [
        "vocab_size = 10000\n",
        "embedding_dim = 16\n",
        "max_length = 100\n",
        "trunc_type = 'post'\n",
        "padding_type = 'post'\n",
        "oov_tok = \"<OOV>\"\n",
        "training_size = 20000"
      ],
      "metadata": {
        "id": "i0bftSXFnZmV"
      },
      "execution_count": 2,
      "outputs": []
    },
    {
      "cell_type": "code",
      "execution_count": 3,
      "metadata": {
        "id": "BQVuQrZNkPn9",
        "colab": {
          "base_uri": "https://localhost:8080/"
        },
        "outputId": "0388d7b9-1b23-42ab-db3c-affec2dbd5ab"
      },
      "outputs": [
        {
          "output_type": "stream",
          "name": "stdout",
          "text": [
            "--2022-02-01 23:15:23--  https://storage.googleapis.com/laurencemoroney-blog.appspot.com/sarcasm.json\n",
            "Resolving storage.googleapis.com (storage.googleapis.com)... 173.194.210.128, 173.194.213.128, 173.194.215.128, ...\n",
            "Connecting to storage.googleapis.com (storage.googleapis.com)|173.194.210.128|:443... connected.\n",
            "HTTP request sent, awaiting response... 200 OK\n",
            "Length: 5643545 (5.4M) [application/json]\n",
            "Saving to: ‘/tmp/sarcasm.json’\n",
            "\n",
            "\r/tmp/sarcasm.json     0%[                    ]       0  --.-KB/s               \r/tmp/sarcasm.json   100%[===================>]   5.38M  --.-KB/s    in 0.05s   \n",
            "\n",
            "2022-02-01 23:15:23 (112 MB/s) - ‘/tmp/sarcasm.json’ saved [5643545/5643545]\n",
            "\n"
          ]
        }
      ],
      "source": [
        "!wget --no-check-certificate \\\n",
        "    https://storage.googleapis.com/laurencemoroney-blog.appspot.com/sarcasm.json \\\n",
        "    -O /tmp/sarcasm.json\n"
      ]
    },
    {
      "cell_type": "code",
      "source": [
        "with open(\"/tmp/sarcasm.json\", 'r') as f:\n",
        "  datastore = json.load(f)\n",
        "\n",
        "sentences = []\n",
        "labels = []\n",
        "\n",
        "for item in datastore:\n",
        "  sentences.append(item['headline'])\n",
        "  labels.append(item['is_sarcastic'])"
      ],
      "metadata": {
        "id": "54aNHcUcn10f"
      },
      "execution_count": 4,
      "outputs": []
    },
    {
      "cell_type": "code",
      "source": [
        "training_sentences = sentences[0:training_size]\n",
        "testing_sentences = sentences[training_size:]\n",
        "\n",
        "training_labels = labels[0:training_size]\n",
        "testing_labels = labels[training_size:]\n"
      ],
      "metadata": {
        "id": "XG1zH2R6owCR"
      },
      "execution_count": 5,
      "outputs": []
    },
    {
      "cell_type": "code",
      "source": [
        "tokenizer = Tokenizer(num_words=vocab_size, oov_token=oov_tok)\n",
        "tokenizer.fit_on_texts(training_sentences)\n",
        "\n",
        "word_index = tokenizer.word_index\n",
        "\n",
        "training_sequences = tokenizer.texts_to_sequences(training_sentences)\n",
        "training_padded = pad_sequences(training_sequences, maxlen=max_length, padding=padding_type, truncating=trunc_type)\n",
        "\n",
        "testing_sequences = tokenizer.texts_to_sequences(testing_sentences)\n",
        "testing_padded = pad_sequences(testing_sequences, maxlen=max_length, padding=padding_type, truncating=trunc_type)"
      ],
      "metadata": {
        "id": "VO8e-h1TpqN0"
      },
      "execution_count": 6,
      "outputs": []
    },
    {
      "cell_type": "code",
      "source": [
        "training_padded = np.array(training_padded)\n",
        "training_labels = np.array(training_labels)\n",
        "testing_padded = np.array(testing_padded)\n",
        "testing_labels = np.array(testing_labels)"
      ],
      "metadata": {
        "id": "QSNdVyMYtwjm"
      },
      "execution_count": 7,
      "outputs": []
    },
    {
      "cell_type": "code",
      "source": [
        "model = tf.keras.Sequential([\n",
        "    tf.keras.layers.Embedding(vocab_size, embedding_dim, input_length=max_length),\n",
        "    tf.keras.layers.GlobalAveragePooling1D(),\n",
        "    tf.keras.layers.Dense(24, activation='relu'),\n",
        "    tf.keras.layers.Dense(1, activation='sigmoid')\n",
        "])\n",
        "model.compile(loss='binary_crossentropy',optimizer='adam',metrics=['accuracy'])"
      ],
      "metadata": {
        "id": "kkwpnRDBuaZh"
      },
      "execution_count": 8,
      "outputs": []
    },
    {
      "cell_type": "code",
      "source": [
        "model.summary()"
      ],
      "metadata": {
        "id": "irlounPiwlWM",
        "colab": {
          "base_uri": "https://localhost:8080/"
        },
        "outputId": "8d718c41-a269-440e-b901-112f89012f56"
      },
      "execution_count": 9,
      "outputs": [
        {
          "output_type": "stream",
          "name": "stdout",
          "text": [
            "Model: \"sequential\"\n",
            "_________________________________________________________________\n",
            " Layer (type)                Output Shape              Param #   \n",
            "=================================================================\n",
            " embedding (Embedding)       (None, 100, 16)           160000    \n",
            "                                                                 \n",
            " global_average_pooling1d (G  (None, 16)               0         \n",
            " lobalAveragePooling1D)                                          \n",
            "                                                                 \n",
            " dense (Dense)               (None, 24)                408       \n",
            "                                                                 \n",
            " dense_1 (Dense)             (None, 1)                 25        \n",
            "                                                                 \n",
            "=================================================================\n",
            "Total params: 160,433\n",
            "Trainable params: 160,433\n",
            "Non-trainable params: 0\n",
            "_________________________________________________________________\n"
          ]
        }
      ]
    },
    {
      "cell_type": "code",
      "execution_count": 10,
      "metadata": {
        "id": "2DTKQFf1kkyc",
        "colab": {
          "base_uri": "https://localhost:8080/"
        },
        "outputId": "9b00ef96-6483-4d3c-faa0-b03e5be115e0"
      },
      "outputs": [
        {
          "output_type": "stream",
          "name": "stdout",
          "text": [
            "Epoch 1/30\n",
            "625/625 - 3s - loss: 0.6539 - accuracy: 0.6079 - val_loss: 0.5296 - val_accuracy: 0.8089 - 3s/epoch - 5ms/step\n",
            "Epoch 2/30\n",
            "625/625 - 2s - loss: 0.3951 - accuracy: 0.8450 - val_loss: 0.3736 - val_accuracy: 0.8419 - 2s/epoch - 3ms/step\n",
            "Epoch 3/30\n",
            "625/625 - 2s - loss: 0.2925 - accuracy: 0.8826 - val_loss: 0.3580 - val_accuracy: 0.8413 - 2s/epoch - 3ms/step\n",
            "Epoch 4/30\n",
            "625/625 - 2s - loss: 0.2427 - accuracy: 0.9065 - val_loss: 0.3660 - val_accuracy: 0.8395 - 2s/epoch - 3ms/step\n",
            "Epoch 5/30\n",
            "625/625 - 2s - loss: 0.2091 - accuracy: 0.9204 - val_loss: 0.3480 - val_accuracy: 0.8557 - 2s/epoch - 3ms/step\n",
            "Epoch 6/30\n",
            "625/625 - 2s - loss: 0.1810 - accuracy: 0.9311 - val_loss: 0.3628 - val_accuracy: 0.8526 - 2s/epoch - 3ms/step\n",
            "Epoch 7/30\n",
            "625/625 - 2s - loss: 0.1600 - accuracy: 0.9400 - val_loss: 0.4083 - val_accuracy: 0.8405 - 2s/epoch - 3ms/step\n",
            "Epoch 8/30\n",
            "625/625 - 2s - loss: 0.1423 - accuracy: 0.9474 - val_loss: 0.4140 - val_accuracy: 0.8460 - 2s/epoch - 3ms/step\n",
            "Epoch 9/30\n",
            "625/625 - 2s - loss: 0.1279 - accuracy: 0.9543 - val_loss: 0.4331 - val_accuracy: 0.8451 - 2s/epoch - 3ms/step\n",
            "Epoch 10/30\n",
            "625/625 - 2s - loss: 0.1147 - accuracy: 0.9590 - val_loss: 0.5309 - val_accuracy: 0.8269 - 2s/epoch - 3ms/step\n",
            "Epoch 11/30\n",
            "625/625 - 2s - loss: 0.1029 - accuracy: 0.9652 - val_loss: 0.4822 - val_accuracy: 0.8433 - 2s/epoch - 3ms/step\n",
            "Epoch 12/30\n",
            "625/625 - 2s - loss: 0.0917 - accuracy: 0.9696 - val_loss: 0.5541 - val_accuracy: 0.8307 - 2s/epoch - 3ms/step\n",
            "Epoch 13/30\n",
            "625/625 - 2s - loss: 0.0836 - accuracy: 0.9723 - val_loss: 0.5462 - val_accuracy: 0.8390 - 2s/epoch - 3ms/step\n",
            "Epoch 14/30\n",
            "625/625 - 2s - loss: 0.0769 - accuracy: 0.9744 - val_loss: 0.5996 - val_accuracy: 0.8326 - 2s/epoch - 3ms/step\n",
            "Epoch 15/30\n",
            "625/625 - 2s - loss: 0.0677 - accuracy: 0.9786 - val_loss: 0.6259 - val_accuracy: 0.8323 - 2s/epoch - 3ms/step\n",
            "Epoch 16/30\n",
            "625/625 - 2s - loss: 0.0634 - accuracy: 0.9788 - val_loss: 0.6621 - val_accuracy: 0.8295 - 2s/epoch - 3ms/step\n",
            "Epoch 17/30\n",
            "625/625 - 2s - loss: 0.0574 - accuracy: 0.9822 - val_loss: 0.7019 - val_accuracy: 0.8286 - 2s/epoch - 3ms/step\n",
            "Epoch 18/30\n",
            "625/625 - 2s - loss: 0.0509 - accuracy: 0.9848 - val_loss: 0.7445 - val_accuracy: 0.8265 - 2s/epoch - 3ms/step\n",
            "Epoch 19/30\n",
            "625/625 - 2s - loss: 0.0469 - accuracy: 0.9854 - val_loss: 0.8236 - val_accuracy: 0.8240 - 2s/epoch - 4ms/step\n",
            "Epoch 20/30\n",
            "625/625 - 2s - loss: 0.0424 - accuracy: 0.9872 - val_loss: 0.8517 - val_accuracy: 0.8185 - 2s/epoch - 3ms/step\n",
            "Epoch 21/30\n",
            "625/625 - 2s - loss: 0.0423 - accuracy: 0.9863 - val_loss: 0.9213 - val_accuracy: 0.8189 - 2s/epoch - 3ms/step\n",
            "Epoch 22/30\n",
            "625/625 - 2s - loss: 0.0364 - accuracy: 0.9886 - val_loss: 0.9148 - val_accuracy: 0.8167 - 2s/epoch - 3ms/step\n",
            "Epoch 23/30\n",
            "625/625 - 2s - loss: 0.0347 - accuracy: 0.9905 - val_loss: 0.9725 - val_accuracy: 0.8190 - 2s/epoch - 3ms/step\n",
            "Epoch 24/30\n",
            "625/625 - 2s - loss: 0.0307 - accuracy: 0.9901 - val_loss: 1.0006 - val_accuracy: 0.8179 - 2s/epoch - 3ms/step\n",
            "Epoch 25/30\n",
            "625/625 - 2s - loss: 0.0278 - accuracy: 0.9921 - val_loss: 1.0576 - val_accuracy: 0.8149 - 2s/epoch - 3ms/step\n",
            "Epoch 26/30\n",
            "625/625 - 2s - loss: 0.0281 - accuracy: 0.9915 - val_loss: 1.0827 - val_accuracy: 0.8134 - 2s/epoch - 3ms/step\n",
            "Epoch 27/30\n",
            "625/625 - 2s - loss: 0.0274 - accuracy: 0.9912 - val_loss: 1.1338 - val_accuracy: 0.8134 - 2s/epoch - 3ms/step\n",
            "Epoch 28/30\n",
            "625/625 - 2s - loss: 0.0222 - accuracy: 0.9933 - val_loss: 1.1659 - val_accuracy: 0.8129 - 2s/epoch - 3ms/step\n",
            "Epoch 29/30\n",
            "625/625 - 2s - loss: 0.0206 - accuracy: 0.9938 - val_loss: 1.2040 - val_accuracy: 0.8106 - 2s/epoch - 4ms/step\n",
            "Epoch 30/30\n",
            "625/625 - 2s - loss: 0.0204 - accuracy: 0.9941 - val_loss: 1.2576 - val_accuracy: 0.8088 - 2s/epoch - 3ms/step\n"
          ]
        }
      ],
      "source": [
        "num_epochs = 30\n",
        "history = model.fit(training_padded, training_labels, epochs=num_epochs, validation_data=(testing_padded, testing_labels), verbose=2)\n"
      ]
    },
    {
      "cell_type": "code",
      "source": [
        "reverse_word_index = dict([(value, key) for (key, value) in word_index.items()])\n",
        "\n",
        "def decode_sentence(text):\n",
        "    return ' '.join([reverse_word_index.get(i, '?') for i in text])\n",
        "\n",
        "print(decode_sentence(training_padded[0]))\n",
        "print(training_sentences[2])\n",
        "print(labels[2])"
      ],
      "metadata": {
        "colab": {
          "base_uri": "https://localhost:8080/"
        },
        "id": "99j1pEnszqr-",
        "outputId": "b5cd69db-59bb-49ea-dbd6-77ec4208ebc6"
      },
      "execution_count": 11,
      "outputs": [
        {
          "output_type": "stream",
          "name": "stdout",
          "text": [
            "former <OOV> store clerk sues over secret 'black <OOV> for minority shoppers ? ? ? ? ? ? ? ? ? ? ? ? ? ? ? ? ? ? ? ? ? ? ? ? ? ? ? ? ? ? ? ? ? ? ? ? ? ? ? ? ? ? ? ? ? ? ? ? ? ? ? ? ? ? ? ? ? ? ? ? ? ? ? ? ? ? ? ? ? ? ? ? ? ? ? ? ? ? ? ? ? ? ? ? ? ? ? ?\n",
            "mom starting to fear son's web series closest thing she will have to grandchild\n",
            "1\n"
          ]
        }
      ]
    },
    {
      "cell_type": "code",
      "source": [
        "e = model.layers[0]\n",
        "weights = e.get_weights()[0]\n",
        "print(weights.shape)"
      ],
      "metadata": {
        "id": "J6N7QpMf1xvT",
        "colab": {
          "base_uri": "https://localhost:8080/"
        },
        "outputId": "707acf1a-d271-43d3-b8df-5453dc9cee23"
      },
      "execution_count": 13,
      "outputs": [
        {
          "output_type": "stream",
          "name": "stdout",
          "text": [
            "(10000, 16)\n"
          ]
        }
      ]
    },
    {
      "cell_type": "code",
      "source": [
        "out_v = io.open('vecs.tsv', 'w', encoding='utf-8')\n",
        "out_m = io.open('meta.tsv', 'w', encoding='utf-8')\n",
        "\n",
        "for word_num in range(1, vocab_size):\n",
        "  word = reverse_word_index[word_num]\n",
        "  embeddings = weights[word_num]\n",
        "  out_m.write(word + \"\\n\")\n",
        "  out_v.write('\\t'.join([str(x) for x in embeddings]) + \"\\n\")\n",
        "\n",
        "out_v.close()\n",
        "out_m.close()"
      ],
      "metadata": {
        "id": "kYfxsBMCiPtI"
      },
      "execution_count": 14,
      "outputs": []
    },
    {
      "cell_type": "code",
      "execution_count": 15,
      "metadata": {
        "id": "U4eZ5HtVnnEE",
        "colab": {
          "base_uri": "https://localhost:8080/",
          "height": 17
        },
        "outputId": "cc48c63d-9061-4512-f253-a70e984e842a"
      },
      "outputs": [
        {
          "output_type": "display_data",
          "data": {
            "application/javascript": [
              "\n",
              "    async function download(id, filename, size) {\n",
              "      if (!google.colab.kernel.accessAllowed) {\n",
              "        return;\n",
              "      }\n",
              "      const div = document.createElement('div');\n",
              "      const label = document.createElement('label');\n",
              "      label.textContent = `Downloading \"${filename}\": `;\n",
              "      div.appendChild(label);\n",
              "      const progress = document.createElement('progress');\n",
              "      progress.max = size;\n",
              "      div.appendChild(progress);\n",
              "      document.body.appendChild(div);\n",
              "\n",
              "      const buffers = [];\n",
              "      let downloaded = 0;\n",
              "\n",
              "      const channel = await google.colab.kernel.comms.open(id);\n",
              "      // Send a message to notify the kernel that we're ready.\n",
              "      channel.send({})\n",
              "\n",
              "      for await (const message of channel.messages) {\n",
              "        // Send a message to notify the kernel that we're ready.\n",
              "        channel.send({})\n",
              "        if (message.buffers) {\n",
              "          for (const buffer of message.buffers) {\n",
              "            buffers.push(buffer);\n",
              "            downloaded += buffer.byteLength;\n",
              "            progress.value = downloaded;\n",
              "          }\n",
              "        }\n",
              "      }\n",
              "      const blob = new Blob(buffers, {type: 'application/binary'});\n",
              "      const a = document.createElement('a');\n",
              "      a.href = window.URL.createObjectURL(blob);\n",
              "      a.download = filename;\n",
              "      div.appendChild(a);\n",
              "      a.click();\n",
              "      div.remove();\n",
              "    }\n",
              "  "
            ],
            "text/plain": [
              "<IPython.core.display.Javascript object>"
            ]
          },
          "metadata": {}
        },
        {
          "output_type": "display_data",
          "data": {
            "application/javascript": [
              "download(\"download_8bcbd8ea-d303-4933-9515-1b3fb21a75dc\", \"vecs.tsv\", 1821930)"
            ],
            "text/plain": [
              "<IPython.core.display.Javascript object>"
            ]
          },
          "metadata": {}
        },
        {
          "output_type": "display_data",
          "data": {
            "application/javascript": [
              "\n",
              "    async function download(id, filename, size) {\n",
              "      if (!google.colab.kernel.accessAllowed) {\n",
              "        return;\n",
              "      }\n",
              "      const div = document.createElement('div');\n",
              "      const label = document.createElement('label');\n",
              "      label.textContent = `Downloading \"${filename}\": `;\n",
              "      div.appendChild(label);\n",
              "      const progress = document.createElement('progress');\n",
              "      progress.max = size;\n",
              "      div.appendChild(progress);\n",
              "      document.body.appendChild(div);\n",
              "\n",
              "      const buffers = [];\n",
              "      let downloaded = 0;\n",
              "\n",
              "      const channel = await google.colab.kernel.comms.open(id);\n",
              "      // Send a message to notify the kernel that we're ready.\n",
              "      channel.send({})\n",
              "\n",
              "      for await (const message of channel.messages) {\n",
              "        // Send a message to notify the kernel that we're ready.\n",
              "        channel.send({})\n",
              "        if (message.buffers) {\n",
              "          for (const buffer of message.buffers) {\n",
              "            buffers.push(buffer);\n",
              "            downloaded += buffer.byteLength;\n",
              "            progress.value = downloaded;\n",
              "          }\n",
              "        }\n",
              "      }\n",
              "      const blob = new Blob(buffers, {type: 'application/binary'});\n",
              "      const a = document.createElement('a');\n",
              "      a.href = window.URL.createObjectURL(blob);\n",
              "      a.download = filename;\n",
              "      div.appendChild(a);\n",
              "      a.click();\n",
              "      div.remove();\n",
              "    }\n",
              "  "
            ],
            "text/plain": [
              "<IPython.core.display.Javascript object>"
            ]
          },
          "metadata": {}
        },
        {
          "output_type": "display_data",
          "data": {
            "application/javascript": [
              "download(\"download_00a45ab3-f2c3-4abc-bb31-c3d0aec24c14\", \"meta.tsv\", 75974)"
            ],
            "text/plain": [
              "<IPython.core.display.Javascript object>"
            ]
          },
          "metadata": {}
        }
      ],
      "source": [
        "try:\n",
        "  from google.colab import files\n",
        "except ImportError:\n",
        "  pass\n",
        "else:\n",
        "  files.download('vecs.tsv')\n",
        "  files.download('meta.tsv')"
      ]
    },
    {
      "cell_type": "code",
      "source": [
        "sentence = [\"granny starting to fear spiders in the garden might be real\", \"game of thrones season finale showing this sunday night\"]\n",
        "sequences = tokenizer.texts_to_sequences(sentence)\n",
        "padded = pad_sequences(sequences, maxlen=max_length, padding=padding_type, truncating=trunc_type)\n",
        "print(model.predict(padded))"
      ],
      "metadata": {
        "colab": {
          "base_uri": "https://localhost:8080/"
        },
        "id": "4D_rBiF-ixFY",
        "outputId": "2253b144-8b1e-4af3-b02a-6a3d860d49d2"
      },
      "execution_count": 16,
      "outputs": [
        {
          "output_type": "stream",
          "name": "stdout",
          "text": [
            "[[9.7234571e-01]\n",
            " [1.6077591e-07]]\n"
          ]
        }
      ]
    },
    {
      "cell_type": "code",
      "source": [
        ""
      ],
      "metadata": {
        "id": "yNsSchOjleLG"
      },
      "execution_count": null,
      "outputs": []
    }
  ]
}